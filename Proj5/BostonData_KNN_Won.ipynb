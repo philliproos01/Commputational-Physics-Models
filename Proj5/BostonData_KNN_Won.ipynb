{
 "cells": [
  {
   "cell_type": "code",
   "execution_count": 16,
   "id": "7f7e3bae",
   "metadata": {},
   "outputs": [],
   "source": [
    "import pandas as pd\n",
    "from sklearn.model_selection import train_test_split\n",
    "from sklearn.neighbors import KNeighborsClassifier\n",
    "import matplotlib.pyplot as plt\n",
    "%matplotlib inline"
   ]
  },
  {
   "cell_type": "code",
   "execution_count": 3,
   "id": "496fa9e2",
   "metadata": {},
   "outputs": [
    {
     "name": "stdout",
     "output_type": "stream",
     "text": [
      "   Year  Month  Day  High Temp (F)  Avg Temp (F)  Low Temp (F)  \\\n",
      "0  2008      1    1             40            34            28   \n",
      "1  2008      1    2             33            22            10   \n",
      "2  2008      1    3             14            11             7   \n",
      "3  2008      1    4             32            20             8   \n",
      "4  2008      1    5             42            35            27   \n",
      "\n",
      "   High Dew Point (F)  Avg Dew Point (F)  Low Dew Point (F)  \\\n",
      "0                  37                 31                 22   \n",
      "1                  28                 18                 -3   \n",
      "2                  -3                 -7                 -9   \n",
      "3                  13                  5                 -8   \n",
      "4                  26                 16                 12   \n",
      "\n",
      "   High Humidity (%)  ...  Low Sea Level Press (in)  High Visibility (mi)  \\\n",
      "0                 92  ...                     29.56                    10   \n",
      "1                 82  ...                     29.55                    10   \n",
      "2                 60  ...                     30.22                    10   \n",
      "3                 63  ...                     30.37                    10   \n",
      "4                 64  ...                     30.17                    10   \n",
      "\n",
      "   Avg Visibility (mi)  Low Visibility (mi)  High Wind (mph)  Avg Wind (mph)  \\\n",
      "0                    8                    1               23              10   \n",
      "1                   10                    9               28              15   \n",
      "2                   10                   10               25              17   \n",
      "3                   10                   10               23              12   \n",
      "4                   10                   10               16               9   \n",
      "\n",
      "   High Wind Gust (mph)  Snowfall (in)  Precip (in)  Events  \n",
      "0                    36           0.18         0.18    Both  \n",
      "1                    38           0.00         0.00    Snow  \n",
      "2                    32           0.00         0.00    None  \n",
      "3                    28           0.00         0.00    None  \n",
      "4                    23           0.00         0.00    None  \n",
      "\n",
      "[5 rows x 24 columns]\n"
     ]
    }
   ],
   "source": [
    "# read the CSV file\n",
    "data = pd.read_csv('boston_weather_data.csv')\n",
    "# print the first 5 rows of the data\n",
    "print(data.head())\n",
    "# access individual columns\n",
    "year = data['Year']\n",
    "month = data['Month']\n",
    "day = data['Day']\n",
    "high_temp = data['High Temp (F)']\n",
    "avg_temp = data['Avg Temp (F)']\n",
    "low_temp = data['Low Temp (F)']\n",
    "high_dew_point = data['High Dew Point (F)']\n",
    "avg_dew_point = data['Avg Dew Point (F)']\n",
    "low_dew_point = data['Low Dew Point (F)']\n",
    "high_humidity = data['High Humidity (%)']\n",
    "avg_humidity = data['Avg Humidity (%)']\n",
    "low_humidity = data['Low Humidity (%)']\n",
    "high_pressure = data['High Sea Level Press (in)']\n",
    "avg_pressure = data['Avg Sea Level Press (in)']\n",
    "low_pressure = data['Low Sea Level Press (in)']\n",
    "high_visibility = data['High Visibility (mi)']\n",
    "avg_visibility = data['Avg Visibility (mi)']\n",
    "low_visibility = data['Low Visibility (mi)']\n",
    "high_wind = data['High Wind (mph)']\n",
    "avg_wind = data['Avg Wind (mph)']\n",
    "high_wind_gust = data['High Wind Gust (mph)']\n",
    "snowfall = data['Snowfall (in)']\n",
    "precipitation = data['Precip (in)']\n",
    "events = data['Events']"
   ]
  },
  {
   "cell_type": "code",
   "execution_count": 4,
   "id": "afd1a5fd",
   "metadata": {},
   "outputs": [
    {
     "name": "stdout",
     "output_type": "stream",
     "text": [
      "<class 'pandas.core.frame.DataFrame'>\n",
      "RangeIndex: 3749 entries, 0 to 3748\n",
      "Data columns (total 24 columns):\n",
      " #   Column                     Non-Null Count  Dtype  \n",
      "---  ------                     --------------  -----  \n",
      " 0   Year                       3749 non-null   int64  \n",
      " 1   Month                      3749 non-null   int64  \n",
      " 2   Day                        3749 non-null   int64  \n",
      " 3   High Temp (F)              3749 non-null   int64  \n",
      " 4   Avg Temp (F)               3749 non-null   int64  \n",
      " 5   Low Temp (F)               3749 non-null   int64  \n",
      " 6   High Dew Point (F)         3749 non-null   int64  \n",
      " 7   Avg Dew Point (F)          3749 non-null   int64  \n",
      " 8   Low Dew Point (F)          3749 non-null   int64  \n",
      " 9   High Humidity (%)          3749 non-null   int64  \n",
      " 10  Avg Humidity (%)           3749 non-null   int64  \n",
      " 11  Low Humidity (%)           3749 non-null   int64  \n",
      " 12  High Sea Level Press (in)  3749 non-null   float64\n",
      " 13  Avg Sea Level Press (in)   3749 non-null   float64\n",
      " 14  Low Sea Level Press (in)   3749 non-null   float64\n",
      " 15  High Visibility (mi)       3749 non-null   int64  \n",
      " 16  Avg Visibility (mi)        3749 non-null   int64  \n",
      " 17  Low Visibility (mi)        3749 non-null   int64  \n",
      " 18  High Wind (mph)            3749 non-null   int64  \n",
      " 19  Avg Wind (mph)             3749 non-null   int64  \n",
      " 20  High Wind Gust (mph)       3749 non-null   int64  \n",
      " 21  Snowfall (in)              3749 non-null   float64\n",
      " 22  Precip (in)                3749 non-null   float64\n",
      " 23  Events                     3749 non-null   object \n",
      "dtypes: float64(5), int64(18), object(1)\n",
      "memory usage: 703.1+ KB\n"
     ]
    }
   ],
   "source": [
    "data.info()"
   ]
  },
  {
   "cell_type": "code",
   "execution_count": 5,
   "id": "5cfb01f2",
   "metadata": {},
   "outputs": [],
   "source": [
    "features = ['Avg Temp (F)', 'Avg Dew Point (F)', 'Avg Humidity (%)']"
   ]
  },
  {
   "cell_type": "code",
   "execution_count": 7,
   "id": "c8cfc3bc",
   "metadata": {},
   "outputs": [],
   "source": [
    "x = data[features]\n",
    "y = data['Events']\n",
    "\n",
    "x_train, x_test, y_train, y_test = train_test_split(x, y, random_state=42)"
   ]
  },
  {
   "cell_type": "code",
   "execution_count": 8,
   "id": "3dac1966",
   "metadata": {},
   "outputs": [
    {
     "data": {
      "text/plain": [
       "0.7497999466524407"
      ]
     },
     "execution_count": 8,
     "metadata": {},
     "output_type": "execute_result"
    }
   ],
   "source": [
    "len(x_train) / len(x)"
   ]
  },
  {
   "cell_type": "code",
   "execution_count": 10,
   "id": "35b85659",
   "metadata": {},
   "outputs": [],
   "source": [
    "clf = KNeighborsClassifier(n_neighbors=3)"
   ]
  },
  {
   "cell_type": "code",
   "execution_count": 11,
   "id": "855cb2bc",
   "metadata": {},
   "outputs": [
    {
     "data": {
      "text/plain": [
       "KNeighborsClassifier(n_neighbors=3)"
      ]
     },
     "execution_count": 11,
     "metadata": {},
     "output_type": "execute_result"
    }
   ],
   "source": [
    "clf.fit(x_train, y_train)"
   ]
  },
  {
   "cell_type": "code",
   "execution_count": 12,
   "id": "0643d38e",
   "metadata": {},
   "outputs": [
    {
     "name": "stderr",
     "output_type": "stream",
     "text": [
      "/Users/won/opt/anaconda3/lib/python3.9/site-packages/sklearn/neighbors/_classification.py:228: FutureWarning: Unlike other reduction functions (e.g. `skew`, `kurtosis`), the default behavior of `mode` typically preserves the axis it acts along. In SciPy 1.11.0, this behavior will change: the default value of `keepdims` will become False, the `axis` over which the statistic is taken will be eliminated, and the value None will no longer be accepted. Set `keepdims` to True or False to avoid this warning.\n",
      "  mode, _ = stats.mode(_y[neigh_ind, k], axis=1)\n"
     ]
    }
   ],
   "source": [
    "y_pred = clf.predict(x_test)"
   ]
  },
  {
   "cell_type": "code",
   "execution_count": 13,
   "id": "6d540a1e",
   "metadata": {},
   "outputs": [
    {
     "data": {
      "text/plain": [
       "array(['Rain', 'None', 'Both', 'None', 'None', 'None', 'None', 'Rain',\n",
       "       'Rain', 'Rain', 'None', 'Rain', 'None', 'None', 'Rain', 'Rain',\n",
       "       'None', 'None', 'None', 'None', 'Snow', 'Rain', 'Rain', 'Rain',\n",
       "       'Rain', 'None', 'None', 'Rain', 'None', 'None', 'None', 'None',\n",
       "       'None', 'Rain', 'Both', 'None', 'Rain', 'Rain', 'None', 'Rain',\n",
       "       'None', 'Rain', 'None', 'Rain', 'Rain', 'Rain', 'None', 'None',\n",
       "       'None', 'None', 'None', 'Rain', 'None', 'Rain', 'Rain', 'Snow',\n",
       "       'Rain', 'Rain', 'None', 'None', 'Rain', 'None', 'Rain', 'None',\n",
       "       'None', 'None', 'None', 'Snow', 'None', 'Snow', 'None', 'None',\n",
       "       'Snow', 'Rain', 'None', 'Rain', 'None', 'None', 'None', 'None',\n",
       "       'None', 'None', 'None', 'None', 'None', 'None', 'Rain', 'None',\n",
       "       'None', 'None', 'Rain', 'None', 'Both', 'None', 'None', 'Rain',\n",
       "       'Rain', 'None', 'None', 'None', 'Both', 'None', 'None', 'Rain',\n",
       "       'Rain', 'Rain', 'None', 'Rain', 'Rain', 'None', 'Rain', 'None',\n",
       "       'None', 'Rain', 'Both', 'Rain', 'None', 'None', 'None', 'Snow',\n",
       "       'Rain', 'None', 'Rain', 'Rain', 'Rain', 'None', 'None', 'Rain',\n",
       "       'Both', 'None', 'None', 'None', 'Rain', 'Rain', 'None', 'Rain',\n",
       "       'None', 'None', 'None', 'None', 'Both', 'Rain', 'Snow', 'Rain',\n",
       "       'Rain', 'None', 'None', 'Snow', 'None', 'None', 'Rain', 'None',\n",
       "       'None', 'None', 'Both', 'None', 'None', 'None', 'None', 'Rain',\n",
       "       'Rain', 'None', 'None', 'None', 'None', 'None', 'Both', 'Rain',\n",
       "       'None', 'None', 'Rain', 'None', 'None', 'None', 'None', 'Rain',\n",
       "       'None', 'None', 'None', 'None', 'None', 'Rain', 'None', 'None',\n",
       "       'Rain', 'Rain', 'None', 'None', 'None', 'None', 'Rain', 'None',\n",
       "       'None', 'None', 'Rain', 'None', 'Rain', 'None', 'None', 'Rain',\n",
       "       'Both', 'None', 'Snow', 'None', 'None', 'None', 'Rain', 'None',\n",
       "       'Both', 'Rain', 'None', 'Rain', 'None', 'Rain', 'Both', 'None',\n",
       "       'None', 'Rain', 'Both', 'Rain', 'Both', 'None', 'None', 'None',\n",
       "       'Rain', 'None', 'None', 'None', 'Rain', 'Rain', 'None', 'None',\n",
       "       'Rain', 'None', 'None', 'Rain', 'Rain', 'Both', 'None', 'Rain',\n",
       "       'None', 'Snow', 'None', 'Rain', 'Rain', 'Rain', 'Both', 'None',\n",
       "       'None', 'Rain', 'Snow', 'None', 'Both', 'Rain', 'Rain', 'None',\n",
       "       'None', 'None', 'Rain', 'None', 'None', 'Rain', 'None', 'None',\n",
       "       'Rain', 'None', 'None', 'None', 'None', 'None', 'Rain', 'Rain',\n",
       "       'Rain', 'None', 'Rain', 'None', 'Both', 'None', 'Rain', 'Rain',\n",
       "       'None', 'None', 'None', 'None', 'Rain', 'None', 'None', 'None',\n",
       "       'None', 'Rain', 'None', 'None', 'Snow', 'None', 'None', 'Rain',\n",
       "       'Snow', 'None', 'None', 'None', 'Rain', 'None', 'None', 'Snow',\n",
       "       'None', 'None', 'None', 'None', 'None', 'None', 'Rain', 'None',\n",
       "       'Rain', 'Rain', 'None', 'None', 'Snow', 'None', 'None', 'None',\n",
       "       'Rain', 'Snow', 'None', 'None', 'None', 'None', 'None', 'Rain',\n",
       "       'Rain', 'None', 'Rain', 'None', 'Rain', 'Rain', 'Snow', 'None',\n",
       "       'None', 'Rain', 'Rain', 'Rain', 'None', 'Both', 'Both', 'Rain',\n",
       "       'None', 'None', 'Rain', 'None', 'None', 'Rain', 'Rain', 'None',\n",
       "       'Rain', 'Rain', 'None', 'None', 'None', 'Rain', 'Rain', 'None',\n",
       "       'None', 'Rain', 'None', 'None', 'None', 'None', 'None', 'None',\n",
       "       'Rain', 'None', 'None', 'None', 'None', 'None', 'None', 'None',\n",
       "       'None', 'None', 'Rain', 'None', 'Rain', 'Rain', 'None', 'Rain',\n",
       "       'None', 'Rain', 'None', 'Rain', 'Rain', 'None', 'None', 'None',\n",
       "       'None', 'Rain', 'None', 'None', 'Rain', 'Rain', 'Snow', 'Snow',\n",
       "       'Rain', 'Rain', 'None', 'None', 'None', 'None', 'Rain', 'None',\n",
       "       'None', 'Rain', 'Rain', 'None', 'None', 'None', 'None', 'Rain',\n",
       "       'None', 'Rain', 'None', 'None', 'Rain', 'None', 'Rain', 'None',\n",
       "       'Snow', 'None', 'None', 'None', 'None', 'None', 'Snow', 'Rain',\n",
       "       'None', 'None', 'None', 'None', 'None', 'None', 'Rain', 'None',\n",
       "       'Rain', 'None', 'Rain', 'None', 'Rain', 'None', 'None', 'None',\n",
       "       'None', 'Snow', 'Snow', 'Rain', 'Rain', 'None', 'Rain', 'None',\n",
       "       'None', 'None', 'None', 'Rain', 'None', 'Rain', 'None', 'None',\n",
       "       'Rain', 'Both', 'None', 'None', 'None', 'Rain', 'None', 'None',\n",
       "       'None', 'Rain', 'Both', 'None', 'None', 'None', 'None', 'None',\n",
       "       'Both', 'Rain', 'Both', 'None', 'Rain', 'Rain', 'Rain', 'None',\n",
       "       'Rain', 'None', 'Rain', 'Rain', 'None', 'Rain', 'None', 'Rain',\n",
       "       'None', 'None', 'None', 'None', 'Rain', 'None', 'Rain', 'None',\n",
       "       'Rain', 'None', 'None', 'None', 'Both', 'None', 'Rain', 'Rain',\n",
       "       'None', 'None', 'None', 'None', 'Rain', 'None', 'Rain', 'Rain',\n",
       "       'Rain', 'Rain', 'Snow', 'None', 'Both', 'None', 'Rain', 'Rain',\n",
       "       'Snow', 'None', 'None', 'Rain', 'Rain', 'None', 'None', 'None',\n",
       "       'Rain', 'None', 'Both', 'None', 'Rain', 'None', 'None', 'None',\n",
       "       'None', 'None', 'None', 'None', 'None', 'None', 'Rain', 'None',\n",
       "       'Rain', 'Rain', 'Rain', 'Rain', 'Rain', 'None', 'Rain', 'Rain',\n",
       "       'None', 'Rain', 'None', 'None', 'Snow', 'Rain', 'None', 'Rain',\n",
       "       'Snow', 'None', 'Rain', 'None', 'Rain', 'None', 'Rain', 'Both',\n",
       "       'Both', 'Rain', 'None', 'None', 'Rain', 'None', 'None', 'None',\n",
       "       'None', 'None', 'None', 'None', 'None', 'Rain', 'Rain', 'None',\n",
       "       'None', 'None', 'None', 'None', 'None', 'None', 'Both', 'None',\n",
       "       'None', 'None', 'Rain', 'None', 'None', 'None', 'None', 'None',\n",
       "       'None', 'Rain', 'None', 'Rain', 'None', 'Rain', 'Rain', 'Rain',\n",
       "       'None', 'None', 'None', 'Rain', 'None', 'None', 'Rain', 'None',\n",
       "       'None', 'None', 'None', 'Rain', 'Rain', 'Rain', 'None', 'Rain',\n",
       "       'None', 'None', 'Rain', 'None', 'None', 'None', 'Rain', 'None',\n",
       "       'None', 'Rain', 'None', 'None', 'Rain', 'None', 'None', 'Rain',\n",
       "       'None', 'None', 'Rain', 'None', 'None', 'None', 'Rain', 'None',\n",
       "       'Rain', 'Both', 'Rain', 'None', 'Rain', 'Rain', 'Rain', 'None',\n",
       "       'None', 'None', 'Rain', 'Both', 'Rain', 'Rain', 'Rain', 'Rain',\n",
       "       'None', 'None', 'None', 'None', 'None', 'None', 'None', 'None',\n",
       "       'Rain', 'None', 'Snow', 'None', 'Rain', 'Rain', 'Snow', 'None',\n",
       "       'None', 'None', 'Rain', 'None', 'Both', 'None', 'None', 'None',\n",
       "       'None', 'Rain', 'None', 'None', 'None', 'None', 'Both', 'None',\n",
       "       'Rain', 'Snow', 'None', 'Rain', 'None', 'Rain', 'Rain', 'None',\n",
       "       'Rain', 'None', 'None', 'None', 'None', 'None', 'Rain', 'Both',\n",
       "       'Rain', 'None', 'None', 'None', 'None', 'None', 'None', 'None',\n",
       "       'Rain', 'Snow', 'None', 'Rain', 'None', 'None', 'None', 'None',\n",
       "       'None', 'None', 'Snow', 'Rain', 'Rain', 'Rain', 'None', 'None',\n",
       "       'Rain', 'None', 'None', 'None', 'None', 'None', 'None', 'None',\n",
       "       'None', 'Rain', 'None', 'None', 'None', 'None', 'Rain', 'None',\n",
       "       'Rain', 'Rain', 'None', 'Snow', 'None', 'Snow', 'Rain', 'None',\n",
       "       'None', 'None', 'None', 'Rain', 'None', 'None', 'Rain', 'None',\n",
       "       'Both', 'None', 'Both', 'None', 'None', 'None', 'None', 'None',\n",
       "       'None', 'None', 'None', 'None', 'Rain', 'Both', 'Rain', 'None',\n",
       "       'None', 'None', 'None', 'Rain', 'None', 'None', 'Rain', 'None',\n",
       "       'Rain', 'None', 'None', 'Rain', 'Both', 'Snow', 'Snow', 'Rain',\n",
       "       'None', 'Rain', 'None', 'Rain', 'None', 'Rain', 'None', 'None',\n",
       "       'None', 'None', 'Rain', 'Rain', 'Rain', 'Rain', 'Rain', 'None',\n",
       "       'Rain', 'None', 'Rain', 'Rain', 'None', 'Rain', 'Rain', 'Rain',\n",
       "       'Snow', 'None', 'None', 'Rain', 'Rain', 'None', 'None', 'None',\n",
       "       'None', 'None', 'Rain', 'None', 'None', 'None', 'Rain', 'None',\n",
       "       'Both', 'Rain', 'None', 'Rain', 'None', 'None', 'None', 'None',\n",
       "       'None', 'None', 'Rain', 'None', 'None', 'Rain', 'Rain', 'None',\n",
       "       'None', 'Rain', 'None', 'Both', 'Rain', 'None', 'Rain', 'None',\n",
       "       'Rain', 'None', 'None', 'None', 'Rain', 'None', 'None', 'Rain',\n",
       "       'Rain', 'Rain', 'Rain', 'Rain', 'None', 'None', 'Both', 'None',\n",
       "       'None', 'Rain', 'None', 'None', 'Rain', 'None', 'None', 'Rain',\n",
       "       'Rain', 'None', 'Rain', 'Both', 'None', 'None', 'Rain', 'None',\n",
       "       'Rain', 'None', 'None', 'None', 'None', 'Rain', 'Snow', 'None',\n",
       "       'None', 'Rain', 'Rain', 'Rain', 'Snow', 'Both', 'None', 'Snow',\n",
       "       'Rain', 'Rain', 'Rain', 'Rain', 'Rain', 'None', 'Rain', 'None',\n",
       "       'Rain', 'None', 'None', 'None', 'Rain', 'None', 'None', 'Rain',\n",
       "       'Rain', 'None'], dtype=object)"
      ]
     },
     "execution_count": 13,
     "metadata": {},
     "output_type": "execute_result"
    }
   ],
   "source": [
    "y_pred"
   ]
  },
  {
   "cell_type": "code",
   "execution_count": 14,
   "id": "b15e4a8a",
   "metadata": {},
   "outputs": [
    {
     "name": "stderr",
     "output_type": "stream",
     "text": [
      "/Users/won/opt/anaconda3/lib/python3.9/site-packages/sklearn/neighbors/_classification.py:228: FutureWarning: Unlike other reduction functions (e.g. `skew`, `kurtosis`), the default behavior of `mode` typically preserves the axis it acts along. In SciPy 1.11.0, this behavior will change: the default value of `keepdims` will become False, the `axis` over which the statistic is taken will be eliminated, and the value None will no longer be accepted. Set `keepdims` to True or False to avoid this warning.\n",
      "  mode, _ = stats.mode(_y[neigh_ind, k], axis=1)\n"
     ]
    },
    {
     "data": {
      "text/plain": [
       "0.7100213219616205"
      ]
     },
     "execution_count": 14,
     "metadata": {},
     "output_type": "execute_result"
    }
   ],
   "source": [
    "clf.score(x_test, y_test)"
   ]
  },
  {
   "cell_type": "code",
   "execution_count": 15,
   "id": "ffba6646",
   "metadata": {},
   "outputs": [
    {
     "name": "stderr",
     "output_type": "stream",
     "text": [
      "/Users/won/opt/anaconda3/lib/python3.9/site-packages/sklearn/neighbors/_classification.py:228: FutureWarning: Unlike other reduction functions (e.g. `skew`, `kurtosis`), the default behavior of `mode` typically preserves the axis it acts along. In SciPy 1.11.0, this behavior will change: the default value of `keepdims` will become False, the `axis` over which the statistic is taken will be eliminated, and the value None will no longer be accepted. Set `keepdims` to True or False to avoid this warning.\n",
      "  mode, _ = stats.mode(_y[neigh_ind, k], axis=1)\n",
      "/Users/won/opt/anaconda3/lib/python3.9/site-packages/sklearn/neighbors/_classification.py:228: FutureWarning: Unlike other reduction functions (e.g. `skew`, `kurtosis`), the default behavior of `mode` typically preserves the axis it acts along. In SciPy 1.11.0, this behavior will change: the default value of `keepdims` will become False, the `axis` over which the statistic is taken will be eliminated, and the value None will no longer be accepted. Set `keepdims` to True or False to avoid this warning.\n",
      "  mode, _ = stats.mode(_y[neigh_ind, k], axis=1)\n",
      "/Users/won/opt/anaconda3/lib/python3.9/site-packages/sklearn/neighbors/_classification.py:228: FutureWarning: Unlike other reduction functions (e.g. `skew`, `kurtosis`), the default behavior of `mode` typically preserves the axis it acts along. In SciPy 1.11.0, this behavior will change: the default value of `keepdims` will become False, the `axis` over which the statistic is taken will be eliminated, and the value None will no longer be accepted. Set `keepdims` to True or False to avoid this warning.\n",
      "  mode, _ = stats.mode(_y[neigh_ind, k], axis=1)\n",
      "/Users/won/opt/anaconda3/lib/python3.9/site-packages/sklearn/neighbors/_classification.py:228: FutureWarning: Unlike other reduction functions (e.g. `skew`, `kurtosis`), the default behavior of `mode` typically preserves the axis it acts along. In SciPy 1.11.0, this behavior will change: the default value of `keepdims` will become False, the `axis` over which the statistic is taken will be eliminated, and the value None will no longer be accepted. Set `keepdims` to True or False to avoid this warning.\n",
      "  mode, _ = stats.mode(_y[neigh_ind, k], axis=1)\n",
      "/Users/won/opt/anaconda3/lib/python3.9/site-packages/sklearn/neighbors/_classification.py:228: FutureWarning: Unlike other reduction functions (e.g. `skew`, `kurtosis`), the default behavior of `mode` typically preserves the axis it acts along. In SciPy 1.11.0, this behavior will change: the default value of `keepdims` will become False, the `axis` over which the statistic is taken will be eliminated, and the value None will no longer be accepted. Set `keepdims` to True or False to avoid this warning.\n",
      "  mode, _ = stats.mode(_y[neigh_ind, k], axis=1)\n",
      "/Users/won/opt/anaconda3/lib/python3.9/site-packages/sklearn/neighbors/_classification.py:228: FutureWarning: Unlike other reduction functions (e.g. `skew`, `kurtosis`), the default behavior of `mode` typically preserves the axis it acts along. In SciPy 1.11.0, this behavior will change: the default value of `keepdims` will become False, the `axis` over which the statistic is taken will be eliminated, and the value None will no longer be accepted. Set `keepdims` to True or False to avoid this warning.\n",
      "  mode, _ = stats.mode(_y[neigh_ind, k], axis=1)\n",
      "/Users/won/opt/anaconda3/lib/python3.9/site-packages/sklearn/neighbors/_classification.py:228: FutureWarning: Unlike other reduction functions (e.g. `skew`, `kurtosis`), the default behavior of `mode` typically preserves the axis it acts along. In SciPy 1.11.0, this behavior will change: the default value of `keepdims` will become False, the `axis` over which the statistic is taken will be eliminated, and the value None will no longer be accepted. Set `keepdims` to True or False to avoid this warning.\n",
      "  mode, _ = stats.mode(_y[neigh_ind, k], axis=1)\n",
      "/Users/won/opt/anaconda3/lib/python3.9/site-packages/sklearn/neighbors/_classification.py:228: FutureWarning: Unlike other reduction functions (e.g. `skew`, `kurtosis`), the default behavior of `mode` typically preserves the axis it acts along. In SciPy 1.11.0, this behavior will change: the default value of `keepdims` will become False, the `axis` over which the statistic is taken will be eliminated, and the value None will no longer be accepted. Set `keepdims` to True or False to avoid this warning.\n",
      "  mode, _ = stats.mode(_y[neigh_ind, k], axis=1)\n",
      "/Users/won/opt/anaconda3/lib/python3.9/site-packages/sklearn/neighbors/_classification.py:228: FutureWarning: Unlike other reduction functions (e.g. `skew`, `kurtosis`), the default behavior of `mode` typically preserves the axis it acts along. In SciPy 1.11.0, this behavior will change: the default value of `keepdims` will become False, the `axis` over which the statistic is taken will be eliminated, and the value None will no longer be accepted. Set `keepdims` to True or False to avoid this warning.\n",
      "  mode, _ = stats.mode(_y[neigh_ind, k], axis=1)\n",
      "/Users/won/opt/anaconda3/lib/python3.9/site-packages/sklearn/neighbors/_classification.py:228: FutureWarning: Unlike other reduction functions (e.g. `skew`, `kurtosis`), the default behavior of `mode` typically preserves the axis it acts along. In SciPy 1.11.0, this behavior will change: the default value of `keepdims` will become False, the `axis` over which the statistic is taken will be eliminated, and the value None will no longer be accepted. Set `keepdims` to True or False to avoid this warning.\n",
      "  mode, _ = stats.mode(_y[neigh_ind, k], axis=1)\n",
      "/Users/won/opt/anaconda3/lib/python3.9/site-packages/sklearn/neighbors/_classification.py:228: FutureWarning: Unlike other reduction functions (e.g. `skew`, `kurtosis`), the default behavior of `mode` typically preserves the axis it acts along. In SciPy 1.11.0, this behavior will change: the default value of `keepdims` will become False, the `axis` over which the statistic is taken will be eliminated, and the value None will no longer be accepted. Set `keepdims` to True or False to avoid this warning.\n",
      "  mode, _ = stats.mode(_y[neigh_ind, k], axis=1)\n",
      "/Users/won/opt/anaconda3/lib/python3.9/site-packages/sklearn/neighbors/_classification.py:228: FutureWarning: Unlike other reduction functions (e.g. `skew`, `kurtosis`), the default behavior of `mode` typically preserves the axis it acts along. In SciPy 1.11.0, this behavior will change: the default value of `keepdims` will become False, the `axis` over which the statistic is taken will be eliminated, and the value None will no longer be accepted. Set `keepdims` to True or False to avoid this warning.\n",
      "  mode, _ = stats.mode(_y[neigh_ind, k], axis=1)\n",
      "/Users/won/opt/anaconda3/lib/python3.9/site-packages/sklearn/neighbors/_classification.py:228: FutureWarning: Unlike other reduction functions (e.g. `skew`, `kurtosis`), the default behavior of `mode` typically preserves the axis it acts along. In SciPy 1.11.0, this behavior will change: the default value of `keepdims` will become False, the `axis` over which the statistic is taken will be eliminated, and the value None will no longer be accepted. Set `keepdims` to True or False to avoid this warning.\n",
      "  mode, _ = stats.mode(_y[neigh_ind, k], axis=1)\n",
      "/Users/won/opt/anaconda3/lib/python3.9/site-packages/sklearn/neighbors/_classification.py:228: FutureWarning: Unlike other reduction functions (e.g. `skew`, `kurtosis`), the default behavior of `mode` typically preserves the axis it acts along. In SciPy 1.11.0, this behavior will change: the default value of `keepdims` will become False, the `axis` over which the statistic is taken will be eliminated, and the value None will no longer be accepted. Set `keepdims` to True or False to avoid this warning.\n",
      "  mode, _ = stats.mode(_y[neigh_ind, k], axis=1)\n",
      "/Users/won/opt/anaconda3/lib/python3.9/site-packages/sklearn/neighbors/_classification.py:228: FutureWarning: Unlike other reduction functions (e.g. `skew`, `kurtosis`), the default behavior of `mode` typically preserves the axis it acts along. In SciPy 1.11.0, this behavior will change: the default value of `keepdims` will become False, the `axis` over which the statistic is taken will be eliminated, and the value None will no longer be accepted. Set `keepdims` to True or False to avoid this warning.\n",
      "  mode, _ = stats.mode(_y[neigh_ind, k], axis=1)\n",
      "/Users/won/opt/anaconda3/lib/python3.9/site-packages/sklearn/neighbors/_classification.py:228: FutureWarning: Unlike other reduction functions (e.g. `skew`, `kurtosis`), the default behavior of `mode` typically preserves the axis it acts along. In SciPy 1.11.0, this behavior will change: the default value of `keepdims` will become False, the `axis` over which the statistic is taken will be eliminated, and the value None will no longer be accepted. Set `keepdims` to True or False to avoid this warning.\n",
      "  mode, _ = stats.mode(_y[neigh_ind, k], axis=1)\n",
      "/Users/won/opt/anaconda3/lib/python3.9/site-packages/sklearn/neighbors/_classification.py:228: FutureWarning: Unlike other reduction functions (e.g. `skew`, `kurtosis`), the default behavior of `mode` typically preserves the axis it acts along. In SciPy 1.11.0, this behavior will change: the default value of `keepdims` will become False, the `axis` over which the statistic is taken will be eliminated, and the value None will no longer be accepted. Set `keepdims` to True or False to avoid this warning.\n",
      "  mode, _ = stats.mode(_y[neigh_ind, k], axis=1)\n",
      "/Users/won/opt/anaconda3/lib/python3.9/site-packages/sklearn/neighbors/_classification.py:228: FutureWarning: Unlike other reduction functions (e.g. `skew`, `kurtosis`), the default behavior of `mode` typically preserves the axis it acts along. In SciPy 1.11.0, this behavior will change: the default value of `keepdims` will become False, the `axis` over which the statistic is taken will be eliminated, and the value None will no longer be accepted. Set `keepdims` to True or False to avoid this warning.\n",
      "  mode, _ = stats.mode(_y[neigh_ind, k], axis=1)\n",
      "/Users/won/opt/anaconda3/lib/python3.9/site-packages/sklearn/neighbors/_classification.py:228: FutureWarning: Unlike other reduction functions (e.g. `skew`, `kurtosis`), the default behavior of `mode` typically preserves the axis it acts along. In SciPy 1.11.0, this behavior will change: the default value of `keepdims` will become False, the `axis` over which the statistic is taken will be eliminated, and the value None will no longer be accepted. Set `keepdims` to True or False to avoid this warning.\n",
      "  mode, _ = stats.mode(_y[neigh_ind, k], axis=1)\n"
     ]
    }
   ],
   "source": [
    "scores = []\n",
    "for n in range(1, 20):\n",
    "    clf = KNeighborsClassifier(n_neighbors=n)\n",
    "    clf.fit(x_train, y_train)\n",
    "    scores.append(clf.score(x_test, y_test))"
   ]
  },
  {
   "cell_type": "code",
   "execution_count": 17,
   "id": "8e9ece36",
   "metadata": {},
   "outputs": [
    {
     "data": {
      "text/plain": [
       "[<matplotlib.lines.Line2D at 0x7fe3d61a41f0>]"
      ]
     },
     "execution_count": 17,
     "metadata": {},
     "output_type": "execute_result"
    },
    {
     "data": {
      "image/png": "[encoded data removed]",
      "text/plain": [
       "<Figure size 640x480 with 1 Axes>"
      ]
     },
     "metadata": {},
     "output_type": "display_data"
    }
   ],
   "source": [
    "plt.plot(range(1, 20), scores)"
   ]
  },
  {
   "cell_type": "code",
   "execution_count": 18,
   "id": "2b61f360",
   "metadata": {},
   "outputs": [
    {
     "data": {
      "text/plain": [
       "(array([ 148.,    0.,    0.,  234.,    0.,    0., 2108.,    0.,    0.,\n",
       "        1259.]),\n",
       " array([0. , 0.3, 0.6, 0.9, 1.2, 1.5, 1.8, 2.1, 2.4, 2.7, 3. ]),\n",
       " <BarContainer object of 10 artists>)"
      ]
     },
     "execution_count": 18,
     "metadata": {},
     "output_type": "execute_result"
    },
    {
     "data": {
      "image/png": "[encoded data removed]",
      "text/plain": [
       "<Figure size 640x480 with 1 Axes>"
      ]
     },
     "metadata": {},
     "output_type": "display_data"
    }
   ],
   "source": [
    "plt.hist(data['Events'])"
   ]
  },
  {
   "cell_type": "code",
   "execution_count": null,
   "id": "384fa26a",
   "metadata": {},
   "outputs": [],
   "source": []
  }
 ],
 "metadata": {
  "kernelspec": {
   "display_name": "Python 3 (ipykernel)",
   "language": "python",
   "name": "python3"
  },
  "language_info": {
   "codemirror_mode": {
    "name": "ipython",
    "version": 3
   },
   "file_extension": ".py",
   "mimetype": "text/x-python",
   "name": "python",
   "nbconvert_exporter": "python",
   "pygments_lexer": "ipython3",
   "version": "3.9.13"
  }
 },
 "nbformat": 4,
 "nbformat_minor": 5
}
